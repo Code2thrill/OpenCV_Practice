{
 "cells": [
  {
   "cell_type": "markdown",
   "source": [
    "## Opening and Closing\n",
    "As discussed in the video, we can combine erosion and dilation operations to perform some interesting operations on binary images. We can remove small black or white spots from a binary image. For example, we know that erosion removes white region and dilation adds white region. Thus, if we want to remove small white spots, we should perform erosion followed by dilation so that the smaller white spots are removed, whereas the bigger white blobs are unchanged. Similarly you can remove black spots using dilation followed by erosion.\n",
    "Again, weird as it may sound, these operations are also given some names : Opening and Closing.\n",
    "Opening refers Erosion followed by Dilation and these operations is used for clearing white blobs and\n",
    "Closing refers Dilation followed by Erosion and are used for clearing black holes\n",
    "In this section, we will discuss how to use opening and closing operations on binary images."
   ],
   "metadata": {
    "collapsed": false,
    "pycharm": {
     "name": "#%% md\n"
    }
   }
  },
  {
   "cell_type": "markdown",
   "source": [
    "## Opening and Closing using OpenCV\n",
    "Opening and Closing operations can be performed by combining erosion and dilation. It can also be done using special OpenCV functions\n",
    "In OpenCV, the opening and closing operations are implemented using MorphologyEx function.\n",
    "To chose between the opening and closing operation to be performed we specify an argument in the function MorphologyEx definition. The argument for opening operation and closing operations are [MORPH_OPEN] and [MORPH_CLOSE] respectively."
   ],
   "metadata": {
    "collapsed": false,
    "pycharm": {
     "name": "#%% md\n"
    }
   }
  },
  {
   "cell_type": "markdown",
   "source": [
    "### Function Syntax\n",
    "### Opening\n",
    "python:\n",
    "imageMorphOpened = cv2.morphologyEx( src, cv2.MORPH_OPEN, kernel[, dst[, anchor[, iterations[, borderType[, borderValue]]]]] )\n",
    "### Closing\n",
    "python:\n",
    "imageMorphClosed = cv2.morphologyEx( src, cv2.MORPH_CLOSE, kernel[, dst[, anchor[, iterations[, borderType[, borderValue]]]]] )\n",
    "**Parameters**\n",
    "src Source image. The number of channels can be arbitrary. The depth should be one of CV_8U, CV_16U, CV_16S, CV_32F or CV_64F.\n",
    "dst Destination image of the same size and type as source image.\n",
    "op Type of a morphological operation\n",
    "kernel Structuring element. It can be created using getStructuringElement.\n",
    "anchor Anchor position with the kernel. Negative values mean that the anchor is at the kernel center.\n",
    "iterations Number of times erosion and dilation are applied.\n",
    "borderType Pixel extrapolation method.\n",
    "borderValue Border value in case of a constant border. The default value has a special meaning.\n",
    "\n",
    "\n",
    "**Note:** In the functions above, the parameter ‘iterations’ is optional and if not mentioned the default value is taken to be 1. In case, we need to run the opening/closing function more than once, we specify the number of iterations in the MorphologyEx function call statement.\n",
    "\n",
    "\n",
    "We will discuss different methods for performing Opening and Closing operations :\n",
    "Using Dilation and Erosion Operations\n",
    "Using MorphologyEx function"
   ],
   "metadata": {
    "collapsed": false,
    "pycharm": {
     "name": "#%% md\n"
    }
   }
  },
  {
   "cell_type": "markdown",
   "source": [
    "## Import Libraries"
   ],
   "metadata": {
    "collapsed": false,
    "pycharm": {
     "name": "#%% md\n"
    }
   }
  },
  {
   "cell_type": "code",
   "execution_count": 1,
   "outputs": [],
   "source": [
    "import cv2\n",
    "import numpy as np\n",
    "import matplotlib.pyplot as plt\n",
    "%matplotlib inline"
   ],
   "metadata": {
    "collapsed": false,
    "pycharm": {
     "name": "#%%\n"
    }
   }
  },
  {
   "cell_type": "code",
   "execution_count": null,
   "outputs": [],
   "source": [
    "import"
   ],
   "metadata": {
    "collapsed": false,
    "pycharm": {
     "name": "#%%\n"
    }
   }
  }
 ],
 "metadata": {
  "kernelspec": {
   "display_name": "Python 3",
   "language": "python",
   "name": "python3"
  },
  "language_info": {
   "codemirror_mode": {
    "name": "ipython",
    "version": 2
   },
   "file_extension": ".py",
   "mimetype": "text/x-python",
   "name": "python",
   "nbconvert_exporter": "python",
   "pygments_lexer": "ipython2",
   "version": "2.7.6"
  }
 },
 "nbformat": 4,
 "nbformat_minor": 0
}