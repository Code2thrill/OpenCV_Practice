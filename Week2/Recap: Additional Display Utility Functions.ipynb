{
 "cells": [
  {
   "cell_type": "markdown",
   "source": [
    "1. cv2.namedWindow\n",
    "\n",
    "This function is used to create a display window with a specific name. This name is provided as the first argument of this function. The second argument is a flag which decides whether the window can be **resized (cv2.WINDOW_NORMAL)** or it should be **fixed** to match the image size **(cv2.WINDOW_AUTOSIZE - Default flag)**.\n",
    "\n",
    "WINDOW_NORMAL – Allows to manually change window size\n",
    "WINDOW_AUTOSIZE(Default) – Automatically sets the window size\n",
    "WINDOW_FULLSCREEN – Changes the window size to fullscreen\n",
    "\n",
    "Function Syntax\n",
    "Docs\n",
    "Python:\n",
    "None    =   cv2.namedWindow(    winname[, flags]    )\n",
    "\n",
    "Parameters\n",
    "winname - Name of the window in the window caption that may be used as a window identifier.\n",
    "\n",
    "flags - Flags of the window. The supported flags are: (cv::WindowFlags)\n",
    "\n",
    "Can you think of any situation where you would prefer to have a resizable display window?"
   ],
   "metadata": {
    "collapsed": false,
    "pycharm": {
     "name": "#%% md\n"
    }
   }
  },
  {
   "cell_type": "markdown",
   "source": [
    "2. cv2.waitKey\n",
    "\n",
    "This function is widely used in image as well as video processing. It is a keyboard binding function. Its only argument is time in milliseconds. The function waits for specified milliseconds for any keyboard event. If you press any key in that time, the program continues. If 0 is passed, it waits indefinitely for a key stroke. It can also be set to detect specific key strokes which can be quite useful in video processing applications, as we will see in later sections.\n",
    "Function Syntax\n",
    "Docs\n",
    "Python:\n",
    "retval  =   cv2.waitKey(    [, delay]   )\n",
    "Parameters\n",
    "delay - Delay in milliseconds. 0 is the special value that means \"forever\"."
   ],
   "metadata": {
    "collapsed": false,
    "pycharm": {
     "name": "#%% md\n"
    }
   }
  },
  {
   "cell_type": "markdown",
   "source": [
    "3. cv2.destroyWindow\n",
    "\n",
    "This function is used to destroy or close a particular display window. The name of the window is provided as an argument to this function.\n",
    "Function Syntax\n",
    "Docs\n",
    "Python:\n",
    "None    =   cv2.destroyWindow(  winname )\n",
    "Parameters\n",
    "winname - Name of the window to be destroyed"
   ],
   "metadata": {
    "collapsed": false,
    "pycharm": {
     "name": "#%% md\n"
    }
   }
  },
  {
   "cell_type": "markdown",
   "source": [
    "4. cv2.destroyAllWindows\n",
    "\n",
    "This function is used to destroy all display windows. This function does not take any arguments.\n",
    "Function Syntax\n",
    "Docs\n",
    "Python:\n",
    "None    =   cv2.destroyAllWindows(      )"
   ],
   "metadata": {
    "collapsed": false,
    "pycharm": {
     "name": "#%% md\n"
    }
   }
  },
  {
   "cell_type": "code",
   "execution_count": null,
   "outputs": [],
   "source": [],
   "metadata": {
    "collapsed": false,
    "pycharm": {
     "name": "#%%\n"
    }
   }
  }
 ],
 "metadata": {
  "kernelspec": {
   "display_name": "Python 3",
   "language": "python",
   "name": "python3"
  },
  "language_info": {
   "codemirror_mode": {
    "name": "ipython",
    "version": 2
   },
   "file_extension": ".py",
   "mimetype": "text/x-python",
   "name": "python",
   "nbconvert_exporter": "python",
   "pygments_lexer": "ipython2",
   "version": "2.7.6"
  }
 },
 "nbformat": 4,
 "nbformat_minor": 0
}