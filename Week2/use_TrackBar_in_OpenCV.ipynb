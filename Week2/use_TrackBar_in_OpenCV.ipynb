{
 "cells": [
  {
   "cell_type": "markdown",
   "source": [
    "# <font style=\"color:rgb(50,120,229)\"> How to use Trackbars in OpenCV </font>\n",
    "\n",
    "In this section, we will see how trackbars can be used in OpenCV. We will use the thresholding operation to illustrate the usage of trackbars.\n",
    "\n",
    "For creating trackbars, we have to specify a **named window** and use the [**`cv2.createTrackbar()`**](https://docs.opencv.org/4.1.0/d7/dfc/group__highgui.html#gaf78d2155d30b728fc413803745b67a9b) function in which we need to specify the window name. A **callback function** needs to be specified for detecting events on the trackbar. Let’s see an example code.\n",
    "\n",
    "Let's first focus on the callback functions.\n",
    "\n",
    "The trackbars are created using the **`createTrackbar`** function. The different parameters of the function are given below.\n",
    "\n",
    "**`cv2.createTrackbar(trackbarName, windowName, value, count, onChange)`**\n",
    "\n",
    "- **`trackbarname`** is the name that will be displayed alongside the trackbar\n",
    "- **`windowName`** is the namedWindow associated with the callback function\n",
    "- **`value`** is a pointer to an integer variable whose value indicates the position of the trackbar\n",
    "- **`Count`** is the maximum position of the trackbar, minimum being 0 always\n",
    "- **`onChange`** is the callback function which is associated with the winname window and gets triggered when the trackbar is accessed by the user\n",
    "\n",
    "```python\n",
    "# Create Trackbar to choose scale percentage\n",
    "cv2.createTrackbar(trackbarValue, windowName, scaleFactor, maxScaleUp, scaleImage)\n",
    "\n",
    "# Create Trackbar to choose tyoe of scaling ( Up or Down )\n",
    "cv2.createTrackbar(trackbarType, windowName, scaleType, maxType, scaleImage)\n",
    "\n",
    "```"
   ],
   "metadata": {
    "collapsed": false,
    "pycharm": {
     "name": "#%% md\n"
    }
   }
  },
  {
   "cell_type": "markdown",
   "source": [
    "### <font style=\"color:rgb(8,133,37)\">Code Trackbar (Python)</font>\n",
    "### <font style=\"color:rgb(8,133,37)\">[ Python ] [ adding_a_trackbar_as_controller.py ]</font>"
   ],
   "metadata": {
    "collapsed": false,
    "pycharm": {
     "name": "#%% md\n"
    }
   }
  },
  {
   "cell_type": "markdown",
   "source": [
    "This program shows how highgui enables us to dynamically vary variables using trackbars and record the change to produce various results. In this we use trackbars to threshold images. There are two trackbars which are used, one controls the threshold value while the other controls the threshold type."
   ],
   "metadata": {
    "collapsed": false,
    "pycharm": {
     "name": "#%% md\n"
    }
   }
  },
  {
   "cell_type": "code",
   "execution_count": 1,
   "outputs": [],
   "source": [
    "import cv2\n",
    "\n",
    "maxScaleUp = 100\n",
    "scaleFactor = 1\n",
    "scaleType = 0\n",
    "maxType = 1\n",
    "\n",
    "windowName = \"Resize Image\"\n",
    "trackbarValue = 'Scale'\n",
    "trackbarType = \"Type:\\n 0: Scale Up \\n 1: Scale Down\"\n",
    "\n",
    "# load an image\n",
    "im = cv2.imread(\"data/images/truth.png\")\n",
    "\n",
    "# Create a window to display results\n",
    "cv2.namedWindow(windowName, cv2.WINDOW_AUTOSIZE)"
   ],
   "metadata": {
    "collapsed": false,
    "pycharm": {
     "name": "#%%\n"
    }
   }
  },
  {
   "cell_type": "markdown",
   "source": [
    "We will create two trackbars\n",
    "1. For getting the scaling type\n",
    "1. For getting the percentage of scaling to be done.\n",
    "\n",
    "```python\n",
    "# Create Trackbar to choose percentage of scaling\n",
    "cv2.createTrackbar(trackbarValue, windowName, scaleFactor, maxScaleUp, scaleImage);\n",
    "\n",
    "# Create Trackbar to choose type of scaling ( Up or down )\n",
    "cv2.createTrackbar(trackbarType, windowName, scaleType, maxType, scaleTypeImage);\n",
    "\n",
    "```\n",
    "In the above code,\n",
    "- windowName is the name of the window where the trackbars are displayed.\n",
    "- scaleFactor and scaleType are the variables where the values will be updated whenever there is an event on the trackbar.\n",
    "- maxScaleUp and maxType are constants which specify the maximum values the trackbars can take\n",
    "- scaleImage and scaleTypeImage are the **CALLBACK** functions"
   ],
   "metadata": {
    "collapsed": false,
    "pycharm": {
     "name": "#%% md\n"
    }
   }
  },
  {
   "cell_type": "code",
   "execution_count": 2,
   "outputs": [],
   "source": [
    "# Callback functions\n",
    "def scaleImage(*args):\n",
    "    global scaleFactor\n",
    "    global scaleType\n",
    "\n",
    "    # Get the scale factor from the trackbar\n",
    "    scaleFactor = 1+args[0]/100.0\n",
    "\n",
    "    # Perform check if scaleFactor is zero\n",
    "    if scaleFactor == 0:\n",
    "        scaleFactor = 1\n",
    "    # Resize the image\n",
    "    scaledImage = cv2.resize(im, None, fx=scaleFactor,\n",
    "                             fy = scaleFactor, interpolation= cv2.INTER_LINEAR)\n",
    "    cv2.imshow(windowName, scaledImage)\n",
    "# Callback functions\n",
    "def scaleTypeImage(*args):\n",
    "    global scaleFactor\n",
    "    global scaleType\n",
    "\n",
    "    scaleType = args[0]\n",
    "    scaleFactor = 1 + scaleFactor/100.0\n",
    "    if scaleFactor == 0:\n",
    "        scaleFactor = 1\n",
    "    scaledImage = cv2.resize(im, None, fx=scaleFactor,\n",
    "                             fy = scaleFactor, interpolation= cv2.INTER_LINEAR)\n",
    "    cv2.imshow(windowName, scaledImage)"
   ],
   "metadata": {
    "collapsed": false,
    "pycharm": {
     "name": "#%%\n"
    }
   }
  },
  {
   "cell_type": "markdown",
   "source": [
    "These are the callback functions which are called every time the trackbars are used. Whenever there is any activity on the trackbars, these function get called and the values on the trackbars are updated in the variables associated with the trackbars."
   ],
   "metadata": {
    "collapsed": false,
    "pycharm": {
     "name": "#%% md\n"
    }
   }
  },
  {
   "cell_type": "code",
   "execution_count": 3,
   "outputs": [
    {
     "ename": "KeyboardInterrupt",
     "evalue": "",
     "output_type": "error",
     "traceback": [
      "\u001B[0;31m---------------------------------------------------------------------------\u001B[0m",
      "\u001B[0;31mKeyboardInterrupt\u001B[0m                         Traceback (most recent call last)",
      "Input \u001B[0;32mIn [3]\u001B[0m, in \u001B[0;36m<cell line: 5>\u001B[0;34m()\u001B[0m\n\u001B[1;32m      2\u001B[0m cv2\u001B[38;5;241m.\u001B[39mcreateTrackbar(trackbarType, windowName, scaleType, maxType, scaleTypeImage)\n\u001B[1;32m      4\u001B[0m cv2\u001B[38;5;241m.\u001B[39mimshow(windowName, im)\n\u001B[0;32m----> 5\u001B[0m c \u001B[38;5;241m=\u001B[39m \u001B[43mcv2\u001B[49m\u001B[38;5;241;43m.\u001B[39;49m\u001B[43mwaitKey\u001B[49m\u001B[43m(\u001B[49m\u001B[38;5;241;43m0\u001B[39;49m\u001B[43m)\u001B[49m\n\u001B[1;32m      7\u001B[0m cv2\u001B[38;5;241m.\u001B[39mdestroyAllWindows()\n",
      "\u001B[0;31mKeyboardInterrupt\u001B[0m: "
     ]
    }
   ],
   "source": [
    "cv2.createTrackbar(trackbarValue, windowName, scaleFactor, maxScaleUp, scaleImage)\n",
    "cv2.createTrackbar(trackbarType, windowName, scaleType, maxType, scaleTypeImage)\n",
    "\n",
    "cv2.imshow(windowName, im)\n",
    "c = cv2.waitKey(0)\n",
    "\n",
    "cv2.destroyAllWindows()"
   ],
   "metadata": {
    "collapsed": false,
    "pycharm": {
     "name": "#%%\n"
    }
   }
  }
 ],
 "metadata": {
  "kernelspec": {
   "display_name": "Python 3",
   "language": "python",
   "name": "python3"
  },
  "language_info": {
   "codemirror_mode": {
    "name": "ipython",
    "version": 2
   },
   "file_extension": ".py",
   "mimetype": "text/x-python",
   "name": "python",
   "nbconvert_exporter": "python",
   "pygments_lexer": "ipython2",
   "version": "2.7.6"
  }
 },
 "nbformat": 4,
 "nbformat_minor": 0
}