{
 "cells": [
  {
   "cell_type": "markdown",
   "metadata": {
    "pycharm": {
     "name": "#%% md\n"
    }
   },
   "source": [
    "# <font style=\"color:rgb(50,120,229)\"> How to use the Keyboard in OpenCV </font>\n",
    "\n",
    "Getting the input from the keyboard is done using the [**`waitKey()`**](https://docs.opencv.org/4.1.0/d7/dfc/group__highgui.html#ga5628525ad33f52eab17feebcfba38bd7) function.\n",
    "\n",
    "### <font style=\"color:rgb(8,133,37)\">Function Syntax </font>\n",
    "\n",
    "``` python\n",
    "retval\t=\tcv.waitKey(\t[, delay]\t)\n",
    "```\n",
    "\n",
    "**Parameters**\n",
    "- **`delay`** : Delay in milliseconds. 0 is the special value that means \"forever\".\n",
    "\n",
    "The code given below opens the webcam and displays text when ‘e/E’ or ‘z/Z’ is pressed. On pressing ‘ESC’ the program terminates and the display window closes. Note the use of **`waitKey`** here and how this time **`waitKey(0)`** has not been used rather there is some finite delay (10 s). This delay helps to see the text better else the text would disappear as soon as it got displayed.\n",
    "\n",
    "We will only focus on the relevant code snippet here.\n",
    "\n",
    "```python\n",
    "while(True):\n",
    "  # Read frame\n",
    "  ret,frame = cap.read()\n",
    "```\n",
    "\n",
    "The following if-else block is used to check which key is pressed.\n",
    "\n",
    "We use the **`waitKey()`** function to detect the input and respond only if either 'e' or 'z' is pressed. 'ESC'( ASCII code = 27) is used to exit the program.\n",
    "\n",
    "```python\n",
    "  # Identify if 'ESC' is pressed or not\n",
    "  if(k==27):\n",
    "    break\n",
    "  # Identify if 'e' or 'E' is pressed\n",
    "  if(k==101 or k==69):\n",
    "    # Do something\n",
    "  # Identify if 'z' or 'Z' is pressed\n",
    "  if(k==90 or k==122):\n",
    "    # Do something\n",
    "  # Display the frame\n",
    "  cv2.imshow(\"Image\",frame)\n",
    "  # Change waitkey to show display properly\n",
    "  k= cv2.waitKey(10000) & 0xFF\n",
    "```"
   ]
  },
  {
   "cell_type": "code",
   "execution_count": 1,
   "metadata": {
    "pycharm": {
     "name": "#%%\n"
    }
   },
   "outputs": [],
   "source": [
    "import cv2"
   ]
  },
  {
   "cell_type": "code",
   "execution_count": 2,
   "metadata": {
    "pycharm": {
     "name": "#%%\n"
    }
   },
   "outputs": [
    {
     "name": "stderr",
     "output_type": "stream",
     "text": [
      "OpenCV: not authorized to capture video (status 0), requesting...\n",
      "OpenCV: camera failed to properly initialize!\n"
     ]
    },
    {
     "ename": "KeyboardInterrupt",
     "evalue": "",
     "output_type": "error",
     "traceback": [
      "\u001b[0;31m---------------------------------------------------------------------------\u001b[0m",
      "\u001b[0;31mKeyboardInterrupt\u001b[0m                         Traceback (most recent call last)",
      "Input \u001b[0;32mIn [2]\u001b[0m, in \u001b[0;36m<cell line: 6>\u001b[0;34m()\u001b[0m\n\u001b[1;32m      3\u001b[0m k \u001b[38;5;241m=\u001b[39m \u001b[38;5;241m0\u001b[39m\n\u001b[1;32m      4\u001b[0m \u001b[38;5;28;01mwhile\u001b[39;00m(\u001b[38;5;28;01mTrue\u001b[39;00m):\n\u001b[1;32m      5\u001b[0m     \u001b[38;5;66;03m# Read frame\u001b[39;00m\n\u001b[0;32m----> 6\u001b[0m     res, frame \u001b[38;5;241m=\u001b[39m \u001b[43mcap\u001b[49m\u001b[38;5;241;43m.\u001b[39;49m\u001b[43mread\u001b[49m\u001b[43m(\u001b[49m\u001b[43m)\u001b[49m\n",
      "\u001b[0;31mKeyboardInterrupt\u001b[0m: "
     ]
    }
   ],
   "source": [
    "#open webcam\n",
    "cap = cv2.VideoCapture(0)\n",
    "k = 0\n",
    "while(True):\n",
    "    # Read frame\n",
    "    res, frame = cap.read()"
   ]
  },
  {
   "cell_type": "code",
   "execution_count": null,
   "metadata": {
    "pycharm": {
     "name": "#%%\n"
    }
   },
   "outputs": [],
   "source": [
    "# Identify if 'ESC' is pressed or not\n",
    "if(k==27):\n",
    "break\n",
    "# Identify if 'e' or 'E' is pressed\n",
    "if(k==101 or k==69):\n",
    "cv2.putText(frame, \"E is pressed, press Z or ESC\",\n",
    "                (100,180), cv2.FONT_HERSHEY_SIMPLEX,\n",
    "                1, (0,255,0), 3);\n",
    "# Identify if 'z' or 'Z' is pressed\n",
    "if(k==90 or k==122):\n",
    "cv2.putText(frame, \"Z is pressed\",\n",
    "                (100,180), cv2.FONT_HERSHEY_SIMPLEX,\n",
    "                1, (0,255,0), 3)\n",
    "cv2.imshow(\"Image\",frame)\n",
    "# Increase waitkey to show display properly\n",
    "k= cv2.waitKey(10000) & 0xFF"
   ]
  },
  {
   "cell_type": "code",
   "execution_count": null,
   "metadata": {
    "pycharm": {
     "name": "#%%\n"
    }
   },
   "outputs": [],
   "source": [
    "cap.release()\n",
    "cv2.destroyAllWindows()"
   ]
  },
  {
   "cell_type": "code",
   "execution_count": null,
   "metadata": {
    "pycharm": {
     "name": "#%%\n"
    }
   },
   "outputs": [],
   "source": []
  }
 ],
 "metadata": {
  "kernelspec": {
   "display_name": "Python 3 (ipykernel)",
   "language": "python",
   "name": "python3"
  },
  "language_info": {
   "codemirror_mode": {
    "name": "ipython",
    "version": 3
   },
   "file_extension": ".py",
   "mimetype": "text/x-python",
   "name": "python",
   "nbconvert_exporter": "python",
   "pygments_lexer": "ipython3",
   "version": "3.9.5"
  }
 },
 "nbformat": 4,
 "nbformat_minor": 1
}
