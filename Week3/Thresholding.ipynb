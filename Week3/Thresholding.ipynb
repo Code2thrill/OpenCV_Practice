<<<<<<< HEAD
{
 "cells": [
  {
   "cell_type": "markdown",
   "source": [
    "# <font style = \"color:rgb(50,120,229)\">Thresholding</font>\n",
    "\n",
    "In many computer vision tasks, we need to process a binary image.\n",
    "\n",
    "A binary image consists of pixels that are either completely black ( pixel value 0 ) or completely white ( pixel value 255 ). It is easier to come up with algorithms which work on binary images. One of the easiest ways of creating Binary images from grayscale images is using **Thresholding**."
   ],
   "metadata": {
    "collapsed": false,
    "pycharm": {
     "name": "#%% md\n"
    }
   }
  },
  {
   "cell_type": "markdown",
   "source": [
    "# <font style=\"color:rgb(50,120,229)\">Import Libraries </font>"
   ],
   "metadata": {
    "collapsed": false,
    "pycharm": {
     "name": "#%% md\n"
    }
   }
  },
  {
   "cell_type": "code",
   "execution_count": null,
   "outputs": [],
   "source": [],
   "metadata": {
    "collapsed": false,
    "pycharm": {
     "name": "#%%\n"
    }
   }
  }
 ],
 "metadata": {
  "kernelspec": {
   "display_name": "Python 3",
   "language": "python",
   "name": "python3"
  },
  "language_info": {
   "codemirror_mode": {
    "name": "ipython",
    "version": 2
   },
   "file_extension": ".py",
   "mimetype": "text/x-python",
   "name": "python",
   "nbconvert_exporter": "python",
   "pygments_lexer": "ipython2",
   "version": "2.7.6"
  }
 },
 "nbformat": 4,
 "nbformat_minor": 0
}
=======

>>>>>>> origin/main
